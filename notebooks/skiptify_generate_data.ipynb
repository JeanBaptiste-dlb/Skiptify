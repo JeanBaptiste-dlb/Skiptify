{
 "cells": [
  {
   "cell_type": "markdown",
   "metadata": {},
   "source": [
    "### Spotify\n",
    "\n",
    "Rangsiman Ketkaew"
   ]
  },
  {
   "cell_type": "code",
   "execution_count": 2,
   "metadata": {},
   "outputs": [],
   "source": [
    "import spotipy\n",
    "# import spotipy.util as util\n",
    "from lyricsgenius import Genius\n",
    "import json\n",
    "import pandas as pd\n",
    "import numpy as np\n",
    "\n",
    "# Import token for getting song's info from Spotify,\n",
    "# and also token for Genius website\n",
    "from my_token import *"
   ]
  },
  {
   "cell_type": "markdown",
   "metadata": {},
   "source": [
    "#### Spotify Scope"
   ]
  },
  {
   "cell_type": "code",
   "execution_count": 163,
   "metadata": {},
   "outputs": [],
   "source": [
    "scope = 'user-read-currently-playing'\n",
    "# scope = 'user-modify-playback-state'\n",
    "# scope = 'user-read-recently-played'\n",
    "\n",
    "# To connect succesfully you need to provide your own Spotify Credentials\n",
    "# You can do this signing up in https://developer.spotify.com/ and creating a new app.\n",
    "token = spotipy.util.prompt_for_user_token(\n",
    "    USERNAME, scope, client_id=SPOTIPY_CLIENT_ID, client_secret=SPOTIPY_CLIENT_SECRET, redirect_uri=SPOTIPY_REDIRECT_URI)\n",
    "\n",
    "sp = spotipy.Spotify(auth=token)"
   ]
  },
  {
   "cell_type": "code",
   "execution_count": 164,
   "metadata": {},
   "outputs": [],
   "source": [
    "# method currently playing return an actual song on Spotify\n",
    "current_song = sp.currently_playing()\n",
    "current_song['item']['id']"
   ]
  },
  {
   "cell_type": "code",
   "execution_count": 154,
   "metadata": {},
   "outputs": [],
   "source": [
    "# Skip to the next track\n",
    "# Don't fotget to update a scope with 'user-modify-playback-state'\n",
    "sp.next_track()"
   ]
  },
  {
   "cell_type": "markdown",
   "metadata": {},
   "source": [
    "### Functions to get info"
   ]
  },
  {
   "cell_type": "code",
   "execution_count": 170,
   "metadata": {},
   "outputs": [],
   "source": [
    "def get_features(track_id):\n",
    "    features_results = sp.audio_features([track_id])\n",
    "    json_features = json.dumps(features_results)\n",
    "    features_data = json.loads(json_features)\n",
    "\n",
    "    # Convert features dictionary to a list\n",
    "    features_list = list(features_data[0].values())\n",
    "\n",
    "    return features_list"
   ]
  },
  {
   "cell_type": "code",
   "execution_count": 157,
   "metadata": {},
   "outputs": [],
   "source": [
    "def get_lyrics(song_name, artist_name):\n",
    "    genius = Genius(token, timeout=100)\n",
    "    genius.verbose = False\n",
    "    genius.remove_section_headers = True\n",
    "    song = genius.search_song(song_name, artist_name)\n",
    "    try:\n",
    "        return song.lyrics.replace('\\n',\" \")\n",
    "    except:\n",
    "        return None"
   ]
  },
  {
   "cell_type": "markdown",
   "metadata": {},
   "source": [
    "#### Check if the song is skipped"
   ]
  },
  {
   "cell_type": "code",
   "execution_count": 159,
   "metadata": {},
   "outputs": [],
   "source": [
    "import time\n",
    "\n",
    "def calc_end_time():\n",
    "    start_time = time.time()\n",
    "    length_of_the_song = current_song['item']['duration_ms'] / 1000 \n",
    "    endtime = start_time + length_of_the_song\n",
    "    return endtime"
   ]
  },
  {
   "cell_type": "code",
   "execution_count": null,
   "metadata": {},
   "outputs": [],
   "source": [
    "all_non_skipted = []\n",
    "all_skipted = [] \n",
    "\n",
    "### If song is skipped its puts features into all_skipted, if not all_non_skipted\n",
    "\n",
    "current_song = sp.currently_playing()\n",
    "name_of_song = current_song['item']['name']\n",
    "endtime = calc_end_time()\n",
    "\n",
    "while True:\n",
    "    if time.time() < endtime:\n",
    "        current_song = sp.currently_playing()\n",
    "        new_name = current_song['item']['name']\n",
    "        old_track_id = current_song['item']['id']\n",
    "        if  new_name ==  name_of_song:\n",
    "            pass\n",
    "        else:\n",
    "            track_id = current_song['item']['id']\n",
    "            features= get_features(track_id)\n",
    "            all_skipted.append(features)\n",
    "    elif time.time() > endtime:\n",
    "        features_old= get_features(old_track_id)\n",
    "        all_non_skipted.append(features_old)\n",
    "\n",
    "    name_of_song = new_name\n",
    "    time.sleep(5)\n",
    "    # print(all_skipted)"
   ]
  },
  {
   "cell_type": "markdown",
   "metadata": {},
   "source": [
    "#### Get last 50 recentlyed played songs"
   ]
  },
  {
   "cell_type": "code",
   "execution_count": 5,
   "metadata": {},
   "outputs": [],
   "source": [
    "user = sp.user(\"nutty_chem\")\n",
    "# you need to use scope: user-read-recently-played\n",
    "last_50_songs = sp.user_playlists(user['id'], limit=50)\n",
    "# last_50_songs"
   ]
  },
  {
   "cell_type": "code",
   "execution_count": 6,
   "metadata": {},
   "outputs": [
    {
     "name": "stdout",
     "output_type": "stream",
     "text": [
      "7 Years\n",
      "Lukas Graham\n"
     ]
    }
   ],
   "source": [
    "last_50 = sp.current_user_recently_played()\n",
    "print(last_50['items'][49]['track']['name'])\n",
    "print(last_50['items'][49]['track']['artists'][0]['name'])"
   ]
  },
  {
   "cell_type": "code",
   "execution_count": 7,
   "metadata": {},
   "outputs": [
    {
     "data": {
      "text/plain": [
       "'23ihGIrYOSzNNGJ6STAxI4'"
      ]
     },
     "execution_count": 7,
     "metadata": {},
     "output_type": "execute_result"
    }
   ],
   "source": [
    "last_50['items'][49]['track']['id']"
   ]
  },
  {
   "cell_type": "code",
   "execution_count": 10,
   "metadata": {},
   "outputs": [],
   "source": [
    "# Audio features\n",
    "feature_names = [\n",
    "  \"danceability\",\n",
    "  \"energy\",\n",
    "  \"key\",\n",
    "  \"loudness\",\n",
    "  \"mode\",\n",
    "  \"speechiness\",\n",
    "  \"acousticness\",\n",
    "  \"instrumentalness\",\n",
    "  \"liveness\",\n",
    "  \"valence\",\n",
    "  \"tempo\",\n",
    "  # \"type\",\n",
    "  # \"id\",\n",
    "  # \"uri\",\n",
    "  # \"track_href\",\n",
    "  # \"analysis_url\",\n",
    "  # \"duration_ms\",\n",
    "  # \"time_signature\"\n",
    "]"
   ]
  },
  {
   "cell_type": "code",
   "execution_count": 11,
   "metadata": {},
   "outputs": [
    {
     "data": {
      "text/plain": [
       "158"
      ]
     },
     "execution_count": 11,
     "metadata": {},
     "output_type": "execute_result"
    }
   ],
   "source": [
    "# Write csv data file\n",
    "import csv\n",
    "data_file = open('data.csv','w')\n",
    "writer = csv.writer(data_file)\n",
    "writer.writerow(['track_id', 'track_name', 'first_artist'] + feature_names + ['neg', 'neu', 'pos', 'compound'])"
   ]
  },
  {
   "cell_type": "code",
   "execution_count": 12,
   "metadata": {},
   "outputs": [],
   "source": [
    "import nltk\n",
    "nltk.downloader.download('vader_lexicon')\n",
    "from nltk.sentiment.vader import SentimentIntensityAnalyzer as SIA\n",
    "sentiment_analyzer = SIA()\n",
    "\n",
    "repeat_query = True\n",
    "offset_n = 0\n",
    "for i in range(2):\n",
    "    # Query Spotify API\n",
    "    if i > 0:\n",
    "        print('Repeating query')\n",
    "        offset_n += 100\n",
    "\n",
    "    # Write rows\n",
    "    for i in range(50):\n",
    "        track_id = last_50['items'][i]['track']['id']\n",
    "        print(track_id)\n",
    "        \n",
    "        # date_added = track['added_at']\n",
    "        track_name = last_50['items'][i]['track']['name']\n",
    "        first_artist = last_50['items'][i]['track']['artists'][0]['name']\n",
    "\n",
    "        # Track features\n",
    "        features = get_features(track_id)\n",
    "    \n",
    "        # Try to get lyrics, if available\n",
    "        lyrics = get_lyrics(track_name, first_artist)\n",
    "\n",
    "        # Sentiment Analysis\n",
    "        neg = None\n",
    "        neu = None\n",
    "        pos = None\n",
    "        compound = None\n",
    "        if lyrics:\n",
    "            snt = sentiment_analyzer.polarity_scores(lyrics)\n",
    "            neg = snt['neg']\n",
    "            neu = snt['neu']\n",
    "            pos = snt['pos']\n",
    "            compound = snt['compound']\n",
    "\n",
    "        writer.writerow([track_id, track_name, first_artist] + features[:-7] + [neg, neu, pos, compound])\n",
    "\n",
    "print('Done querying')\n",
    "data_file.close()\n"
   ]
  },
  {
   "cell_type": "code",
   "execution_count": null,
   "metadata": {},
   "outputs": [],
   "source": []
  }
 ],
 "metadata": {
  "kernelspec": {
   "display_name": "Python 3.10.6 (conda)",
   "language": "python",
   "name": "python3"
  },
  "language_info": {
   "codemirror_mode": {
    "name": "ipython",
    "version": 3
   },
   "file_extension": ".py",
   "mimetype": "text/x-python",
   "name": "python",
   "nbconvert_exporter": "python",
   "pygments_lexer": "ipython3",
   "version": "3.10.6"
  },
  "orig_nbformat": 4,
  "vscode": {
   "interpreter": {
    "hash": "d2516f5993404e9e349ea047f12238c69ae1d787a6ad5240fc8c2c3492776c28"
   }
  }
 },
 "nbformat": 4,
 "nbformat_minor": 2
}
