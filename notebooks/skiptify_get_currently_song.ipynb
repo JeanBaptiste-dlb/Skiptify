{
 "cells": [
  {
   "cell_type": "code",
   "execution_count": 1,
   "metadata": {},
   "outputs": [],
   "source": [
    "import json\n",
    "import pandas as pd\n",
    "import numpy as np\n",
    "\n",
    "import spotipy\n",
    "\n",
    "from sklearn.metrics import pairwise_distances\n",
    "from my_token import *"
   ]
  },
  {
   "cell_type": "code",
   "execution_count": 2,
   "metadata": {},
   "outputs": [],
   "source": [
    "scope = 'user-read-currently-playing'\n",
    "# scope = 'user-modify-playback-state'\n",
    "# scope = 'user-read-recently-played'\n",
    "\n",
    "# To connect succesfully you need to provide your own Spotify Credentials\n",
    "# You can do this signing up in https://developer.spotify.com/ and creating a new app.\n",
    "token = spotipy.util.prompt_for_user_token(\n",
    "    USERNAME, scope, client_id=SPOTIPY_CLIENT_ID, client_secret=SPOTIPY_CLIENT_SECRET, redirect_uri=SPOTIPY_REDIRECT_URI)\n",
    "\n",
    "sp = spotipy.Spotify(auth=token)"
   ]
  },
  {
   "cell_type": "code",
   "execution_count": 4,
   "metadata": {},
   "outputs": [
    {
     "data": {
      "text/plain": [
       "'5O2P9iiztwhomNh8xkR9lJ'"
      ]
     },
     "execution_count": 4,
     "metadata": {},
     "output_type": "execute_result"
    }
   ],
   "source": [
    "# method currently playing return an actual song on Spotify\n",
    "current_song = sp.currently_playing()\n",
    "current_song['item']['id']"
   ]
  },
  {
   "cell_type": "code",
   "execution_count": 14,
   "metadata": {},
   "outputs": [
    {
     "data": {
      "text/plain": [
       "'https://i.scdn.co/image/ab67616d0000b273d304ba2d71de306812eebaf4'"
      ]
     },
     "execution_count": 14,
     "metadata": {},
     "output_type": "execute_result"
    }
   ],
   "source": [
    "sp.track('5O2P9iiztwhomNh8xkR9lJ')['album']['images'][2]['url']"
   ]
  },
  {
   "cell_type": "code",
   "execution_count": 8,
   "metadata": {},
   "outputs": [
    {
     "data": {
      "text/plain": [
       "[{'external_urls': {'spotify': 'https://open.spotify.com/artist/4AK6F7OLvEQ5QYCBNiQWHq'},\n",
       "  'href': 'https://api.spotify.com/v1/artists/4AK6F7OLvEQ5QYCBNiQWHq',\n",
       "  'id': '4AK6F7OLvEQ5QYCBNiQWHq',\n",
       "  'name': 'One Direction',\n",
       "  'type': 'artist',\n",
       "  'uri': 'spotify:artist:4AK6F7OLvEQ5QYCBNiQWHq'}]"
      ]
     },
     "execution_count": 8,
     "metadata": {},
     "output_type": "execute_result"
    }
   ],
   "source": [
    "sp.track('5O2P9iiztwhomNh8xkR9lJ')['artists']"
   ]
  },
  {
   "cell_type": "code",
   "execution_count": 21,
   "metadata": {},
   "outputs": [
    {
     "data": {
      "text/plain": [
       "'One Direction'"
      ]
     },
     "execution_count": 21,
     "metadata": {},
     "output_type": "execute_result"
    }
   ],
   "source": [
    "sp.track('5O2P9iiztwhomNh8xkR9lJ')['artists'][0]['name']"
   ]
  },
  {
   "cell_type": "code",
   "execution_count": null,
   "metadata": {},
   "outputs": [],
   "source": []
  }
 ],
 "metadata": {
  "kernelspec": {
   "display_name": "Python 3.9.13 ('base')",
   "language": "python",
   "name": "python3"
  },
  "language_info": {
   "codemirror_mode": {
    "name": "ipython",
    "version": 3
   },
   "file_extension": ".py",
   "mimetype": "text/x-python",
   "name": "python",
   "nbconvert_exporter": "python",
   "pygments_lexer": "ipython3",
   "version": "3.9.13"
  },
  "orig_nbformat": 4,
  "vscode": {
   "interpreter": {
    "hash": "c6e4e9f98eb68ad3b7c296f83d20e6de614cb42e90992a65aa266555a3137d0d"
   }
  }
 },
 "nbformat": 4,
 "nbformat_minor": 2
}
