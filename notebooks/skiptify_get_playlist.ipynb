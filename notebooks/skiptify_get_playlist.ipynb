{
 "cells": [
  {
   "cell_type": "code",
   "execution_count": 1,
   "metadata": {},
   "outputs": [],
   "source": [
    "import os\n",
    "import spotipy\n",
    "from spotipy.oauth2 import SpotifyClientCredentials\n",
    "from my_token import *\n",
    "\n",
    "os.environ[\"SPOTIPY_CLIENT_ID\"] = SPOTIPY_CLIENT_ID\n",
    "os.environ[\"SPOTIPY_CLIENT_SECRET\"] = SPOTIPY_CLIENT_SECRET\n",
    "os.environ[\"SPOTIPY_REDIRECT_URI\"] = SPOTIPY_REDIRECT_URI\n",
    "\n",
    "auth_manager = SpotifyClientCredentials()\n",
    "sp = spotipy.Spotify(auth_manager=auth_manager)"
   ]
  },
  {
   "cell_type": "code",
   "execution_count": 8,
   "metadata": {},
   "outputs": [
    {
     "name": "stdout",
     "output_type": "stream",
     "text": [
      "   1 spotify:playlist:35Pg8gI6Rgw4ccqNd5skcv Best Chill Mix\n",
      "   2 spotify:playlist:3B4pbKqnUer2d7DII1QC8Q Good Vibes\n",
      "   3 spotify:playlist:5KV4fkw3FkdOpT3Wan2Jvf Emotional, Sad & Lovely\n",
      "   4 spotify:playlist:00Y1KcNQphDPzFb3KY2Y4t Dance & excitement\n",
      "   5 spotify:playlist:7zlU42UvIgfRqpHXVA6NrD Epic soundtrack\n",
      "   6 spotify:playlist:6Dvljqvm1SEsy4uP6O8Tfj Mixed Thai musics\n",
      "   7 spotify:playlist:6Xp2hKEGGREbZnzdCV6mzN Thai country songs\n",
      "   8 spotify:playlist:7rCQqQKoMCzjJsMrzlhrt8 Soundtrack\n",
      "   9 spotify:playlist:1Tz5apWYRM5gJfLm1VK4y2 Thai folk songs\n",
      "  10 spotify:playlist:26nJKkz1djwNDxnEFNPLtF Linkin Park!!\n"
     ]
    }
   ],
   "source": [
    "playlists = sp.user_playlists('nutty_chem')\n",
    "my_playlists = []\n",
    "while playlists:\n",
    "    for i, playlist in enumerate(playlists['items']):\n",
    "        print(\"%4d %s %s\" % (i + 1 + playlists['offset'], playlist['uri'],  playlist['name']))\n",
    "        # print(playlist.keys())\n",
    "        my_playlists.append(playlist['id'])\n",
    "    if playlists['next']:\n",
    "        playlists = sp.next(playlists)\n",
    "    else:\n",
    "        playlists = None"
   ]
  },
  {
   "cell_type": "code",
   "execution_count": 7,
   "metadata": {},
   "outputs": [
    {
     "data": {
      "text/plain": [
       "['35Pg8gI6Rgw4ccqNd5skcv',\n",
       " '3B4pbKqnUer2d7DII1QC8Q',\n",
       " '5KV4fkw3FkdOpT3Wan2Jvf',\n",
       " '00Y1KcNQphDPzFb3KY2Y4t',\n",
       " '7zlU42UvIgfRqpHXVA6NrD',\n",
       " '6Dvljqvm1SEsy4uP6O8Tfj',\n",
       " '6Xp2hKEGGREbZnzdCV6mzN',\n",
       " '7rCQqQKoMCzjJsMrzlhrt8',\n",
       " '1Tz5apWYRM5gJfLm1VK4y2',\n",
       " '26nJKkz1djwNDxnEFNPLtF']"
      ]
     },
     "execution_count": 7,
     "metadata": {},
     "output_type": "execute_result"
    }
   ],
   "source": [
    "my_playlists"
   ]
  },
  {
   "cell_type": "code",
   "execution_count": null,
   "metadata": {},
   "outputs": [],
   "source": []
  }
 ],
 "metadata": {
  "kernelspec": {
   "display_name": "Python 3.9.13 ('base')",
   "language": "python",
   "name": "python3"
  },
  "language_info": {
   "codemirror_mode": {
    "name": "ipython",
    "version": 3
   },
   "file_extension": ".py",
   "mimetype": "text/x-python",
   "name": "python",
   "nbconvert_exporter": "python",
   "pygments_lexer": "ipython3",
   "version": "3.9.13"
  },
  "orig_nbformat": 4,
  "vscode": {
   "interpreter": {
    "hash": "c6e4e9f98eb68ad3b7c296f83d20e6de614cb42e90992a65aa266555a3137d0d"
   }
  }
 },
 "nbformat": 4,
 "nbformat_minor": 2
}
