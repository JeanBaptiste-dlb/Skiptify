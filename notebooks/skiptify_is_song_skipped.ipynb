{
 "cells": [
  {
   "cell_type": "code",
   "execution_count": 29,
   "metadata": {},
   "outputs": [],
   "source": [
    "import json\n",
    "import pandas as pd\n",
    "import numpy as np\n",
    "\n",
    "import spotipy\n",
    "\n",
    "from sklearn.metrics import pairwise_distances\n",
    "from my_token import *"
   ]
  },
  {
   "cell_type": "code",
   "execution_count": 30,
   "metadata": {},
   "outputs": [],
   "source": [
    "scope = 'user-read-currently-playing'\n",
    "# scope = 'user-modify-playback-state'\n",
    "# scope = 'user-read-recently-played'\n",
    "\n",
    "# To connect succesfully you need to provide your own Spotify Credentials\n",
    "# You can do this signing up in https://developer.spotify.com/ and creating a new app.\n",
    "token = spotipy.util.prompt_for_user_token(\n",
    "    USERNAME, scope, client_id=SPOTIPY_CLIENT_ID, client_secret=SPOTIPY_CLIENT_SECRET, redirect_uri=SPOTIPY_REDIRECT_URI)\n",
    "\n",
    "sp = spotipy.Spotify(auth=token)"
   ]
  },
  {
   "cell_type": "markdown",
   "metadata": {},
   "source": [
    "### Get features of skipped songs"
   ]
  },
  {
   "cell_type": "code",
   "execution_count": 23,
   "metadata": {},
   "outputs": [
    {
     "data": {
      "text/html": [
       "<div>\n",
       "<style scoped>\n",
       "    .dataframe tbody tr th:only-of-type {\n",
       "        vertical-align: middle;\n",
       "    }\n",
       "\n",
       "    .dataframe tbody tr th {\n",
       "        vertical-align: top;\n",
       "    }\n",
       "\n",
       "    .dataframe thead th {\n",
       "        text-align: right;\n",
       "    }\n",
       "</style>\n",
       "<table border=\"1\" class=\"dataframe\">\n",
       "  <thead>\n",
       "    <tr style=\"text-align: right;\">\n",
       "      <th></th>\n",
       "      <th>danceability</th>\n",
       "      <th>energy</th>\n",
       "      <th>key</th>\n",
       "      <th>loudness</th>\n",
       "      <th>mode</th>\n",
       "      <th>speechiness</th>\n",
       "      <th>acousticness</th>\n",
       "      <th>instrumentalness</th>\n",
       "      <th>liveness</th>\n",
       "      <th>valence</th>\n",
       "      <th>tempo</th>\n",
       "    </tr>\n",
       "  </thead>\n",
       "  <tbody>\n",
       "    <tr>\n",
       "      <th>0</th>\n",
       "      <td>0.625</td>\n",
       "      <td>0.726</td>\n",
       "      <td>1</td>\n",
       "      <td>-2.144</td>\n",
       "      <td>1</td>\n",
       "      <td>0.0310</td>\n",
       "      <td>0.335000</td>\n",
       "      <td>0.000000</td>\n",
       "      <td>0.2730</td>\n",
       "      <td>0.559</td>\n",
       "      <td>119.994</td>\n",
       "    </tr>\n",
       "    <tr>\n",
       "      <th>1</th>\n",
       "      <td>0.502</td>\n",
       "      <td>0.972</td>\n",
       "      <td>10</td>\n",
       "      <td>-3.960</td>\n",
       "      <td>0</td>\n",
       "      <td>0.0793</td>\n",
       "      <td>0.000068</td>\n",
       "      <td>0.000702</td>\n",
       "      <td>0.0627</td>\n",
       "      <td>0.729</td>\n",
       "      <td>138.019</td>\n",
       "    </tr>\n",
       "    <tr>\n",
       "      <th>2</th>\n",
       "      <td>0.518</td>\n",
       "      <td>0.436</td>\n",
       "      <td>4</td>\n",
       "      <td>-14.134</td>\n",
       "      <td>1</td>\n",
       "      <td>0.0349</td>\n",
       "      <td>0.015700</td>\n",
       "      <td>0.000621</td>\n",
       "      <td>0.0790</td>\n",
       "      <td>0.270</td>\n",
       "      <td>80.880</td>\n",
       "    </tr>\n",
       "    <tr>\n",
       "      <th>3</th>\n",
       "      <td>0.688</td>\n",
       "      <td>0.835</td>\n",
       "      <td>8</td>\n",
       "      <td>-4.162</td>\n",
       "      <td>1</td>\n",
       "      <td>0.0911</td>\n",
       "      <td>0.058300</td>\n",
       "      <td>0.000003</td>\n",
       "      <td>0.0795</td>\n",
       "      <td>0.880</td>\n",
       "      <td>84.858</td>\n",
       "    </tr>\n",
       "  </tbody>\n",
       "</table>\n",
       "</div>"
      ],
      "text/plain": [
       "   danceability  energy  key  loudness  mode  speechiness  acousticness  \\\n",
       "0         0.625   0.726    1    -2.144     1       0.0310      0.335000   \n",
       "1         0.502   0.972   10    -3.960     0       0.0793      0.000068   \n",
       "2         0.518   0.436    4   -14.134     1       0.0349      0.015700   \n",
       "3         0.688   0.835    8    -4.162     1       0.0911      0.058300   \n",
       "\n",
       "   instrumentalness  liveness  valence    tempo  \n",
       "0          0.000000    0.2730    0.559  119.994  \n",
       "1          0.000702    0.0627    0.729  138.019  \n",
       "2          0.000621    0.0790    0.270   80.880  \n",
       "3          0.000003    0.0795    0.880   84.858  "
      ]
     },
     "execution_count": 23,
     "metadata": {},
     "output_type": "execute_result"
    }
   ],
   "source": [
    "df_skipped = pd.read_csv('../data/player_data/skipped.csv', usecols=[i for i in range(11)])\n",
    "df_skipped.head()"
   ]
  },
  {
   "cell_type": "code",
   "execution_count": 24,
   "metadata": {},
   "outputs": [
    {
     "data": {
      "text/plain": [
       "Index(['danceability', 'energy', 'key', 'loudness', 'mode', 'speechiness',\n",
       "       'acousticness', 'instrumentalness', 'liveness', 'valence', 'tempo'],\n",
       "      dtype='object')"
      ]
     },
     "execution_count": 24,
     "metadata": {},
     "output_type": "execute_result"
    }
   ],
   "source": [
    "df_skipped.columns"
   ]
  },
  {
   "cell_type": "code",
   "execution_count": 25,
   "metadata": {},
   "outputs": [
    {
     "data": {
      "text/plain": [
       "danceability          0.583250\n",
       "energy                0.742250\n",
       "key                   5.750000\n",
       "loudness             -6.100000\n",
       "mode                  0.750000\n",
       "speechiness           0.059075\n",
       "acousticness          0.102267\n",
       "instrumentalness      0.000331\n",
       "liveness              0.123550\n",
       "valence               0.609500\n",
       "tempo               105.937750\n",
       "dtype: float64"
      ]
     },
     "execution_count": 25,
     "metadata": {},
     "output_type": "execute_result"
    }
   ],
   "source": [
    "df_skipped.mean()"
   ]
  },
  {
   "cell_type": "code",
   "execution_count": 28,
   "metadata": {},
   "outputs": [
    {
     "data": {
      "text/html": [
       "<div>\n",
       "<style scoped>\n",
       "    .dataframe tbody tr th:only-of-type {\n",
       "        vertical-align: middle;\n",
       "    }\n",
       "\n",
       "    .dataframe tbody tr th {\n",
       "        vertical-align: top;\n",
       "    }\n",
       "\n",
       "    .dataframe thead th {\n",
       "        text-align: right;\n",
       "    }\n",
       "</style>\n",
       "<table border=\"1\" class=\"dataframe\">\n",
       "  <thead>\n",
       "    <tr style=\"text-align: right;\">\n",
       "      <th></th>\n",
       "      <th>danceability</th>\n",
       "      <th>energy</th>\n",
       "      <th>key</th>\n",
       "      <th>loudness</th>\n",
       "      <th>mode</th>\n",
       "      <th>speechiness</th>\n",
       "      <th>acousticness</th>\n",
       "      <th>instrumentalness</th>\n",
       "      <th>liveness</th>\n",
       "      <th>valence</th>\n",
       "      <th>tempo</th>\n",
       "    </tr>\n",
       "  </thead>\n",
       "  <tbody>\n",
       "    <tr>\n",
       "      <th>0</th>\n",
       "      <td>0.224462</td>\n",
       "      <td>-0.030317</td>\n",
       "      <td>-0.527778</td>\n",
       "      <td>0.329942</td>\n",
       "      <td>0.25</td>\n",
       "      <td>-0.467138</td>\n",
       "      <td>0.694866</td>\n",
       "      <td>-0.472176</td>\n",
       "      <td>0.710651</td>\n",
       "      <td>-0.082787</td>\n",
       "      <td>0.246001</td>\n",
       "    </tr>\n",
       "    <tr>\n",
       "      <th>1</th>\n",
       "      <td>-0.436828</td>\n",
       "      <td>0.428638</td>\n",
       "      <td>0.472222</td>\n",
       "      <td>0.178482</td>\n",
       "      <td>-0.75</td>\n",
       "      <td>0.336522</td>\n",
       "      <td>-0.305134</td>\n",
       "      <td>0.527824</td>\n",
       "      <td>-0.289349</td>\n",
       "      <td>0.195902</td>\n",
       "      <td>0.561460</td>\n",
       "    </tr>\n",
       "    <tr>\n",
       "      <th>2</th>\n",
       "      <td>-0.350806</td>\n",
       "      <td>-0.571362</td>\n",
       "      <td>-0.194444</td>\n",
       "      <td>-0.670058</td>\n",
       "      <td>0.25</td>\n",
       "      <td>-0.402246</td>\n",
       "      <td>-0.258461</td>\n",
       "      <td>0.412439</td>\n",
       "      <td>-0.211840</td>\n",
       "      <td>-0.556557</td>\n",
       "      <td>-0.438540</td>\n",
       "    </tr>\n",
       "    <tr>\n",
       "      <th>3</th>\n",
       "      <td>0.563172</td>\n",
       "      <td>0.173041</td>\n",
       "      <td>0.250000</td>\n",
       "      <td>0.161635</td>\n",
       "      <td>0.25</td>\n",
       "      <td>0.532862</td>\n",
       "      <td>-0.131271</td>\n",
       "      <td>-0.468088</td>\n",
       "      <td>-0.209463</td>\n",
       "      <td>0.443443</td>\n",
       "      <td>-0.368921</td>\n",
       "    </tr>\n",
       "  </tbody>\n",
       "</table>\n",
       "</div>"
      ],
      "text/plain": [
       "   danceability    energy       key  loudness  mode  speechiness  \\\n",
       "0      0.224462 -0.030317 -0.527778  0.329942  0.25    -0.467138   \n",
       "1     -0.436828  0.428638  0.472222  0.178482 -0.75     0.336522   \n",
       "2     -0.350806 -0.571362 -0.194444 -0.670058  0.25    -0.402246   \n",
       "3      0.563172  0.173041  0.250000  0.161635  0.25     0.532862   \n",
       "\n",
       "   acousticness  instrumentalness  liveness   valence     tempo  \n",
       "0      0.694866         -0.472176  0.710651 -0.082787  0.246001  \n",
       "1     -0.305134          0.527824 -0.289349  0.195902  0.561460  \n",
       "2     -0.258461          0.412439 -0.211840 -0.556557 -0.438540  \n",
       "3     -0.131271         -0.468088 -0.209463  0.443443 -0.368921  "
      ]
     },
     "execution_count": 28,
     "metadata": {},
     "output_type": "execute_result"
    }
   ],
   "source": [
    "normalized_d = (df_skipped - df_skipped.mean()) / (df_skipped.max() - df_skipped.min())\n",
    "normalized_d"
   ]
  },
  {
   "cell_type": "code",
   "execution_count": 39,
   "metadata": {},
   "outputs": [],
   "source": [
    "def calc_dist(feature1, feature2):\n",
    "    dss = np.vstack((feature1, feature2))\n",
    "    distance_matrix = pairwise_distances(dss)\n",
    "    return distance_matrix[0][1]"
   ]
  },
  {
   "cell_type": "markdown",
   "metadata": {},
   "source": [
    "### Get features of the song to be calculated distance"
   ]
  },
  {
   "cell_type": "code",
   "execution_count": 31,
   "metadata": {},
   "outputs": [],
   "source": [
    "def get_features(track_id):\n",
    "    features_results = sp.audio_features([track_id])\n",
    "    json_features = json.dumps(features_results)\n",
    "    features_data = json.loads(json_features)\n",
    "\n",
    "    # Convert features dictionary to a list\n",
    "    features_list = list(features_data[0].values())\n",
    "\n",
    "    return features_list"
   ]
  },
  {
   "cell_type": "code",
   "execution_count": 41,
   "metadata": {},
   "outputs": [
    {
     "data": {
      "text/plain": [
       "[0.778, 0.566, 2, -6.959, 0, 0.0311, 0.672, 0.000197, 0.0698, 0.479, 117.971]"
      ]
     },
     "execution_count": 41,
     "metadata": {},
     "output_type": "execute_result"
    }
   ],
   "source": [
    "song_to_check_id = \"3c8iiZGfEammKJuWTErE5x\"\n",
    "feature1 = get_features(song_to_check_id)\n",
    "feature1 = feature1[:11]\n",
    "feature1"
   ]
  },
  {
   "cell_type": "code",
   "execution_count": 44,
   "metadata": {},
   "outputs": [
    {
     "name": "stdout",
     "output_type": "stream",
     "text": [
      "117.98566191727076\n",
      "117.65147964558749\n",
      "118.61783625127826\n",
      "118.57302116704994\n"
     ]
    }
   ],
   "source": [
    "distances = []\n",
    "for i in range(len(normalized_d)):\n",
    "    feature2 = normalized_d.iloc[i,:]\n",
    "    dist_tmp = calc_dist(feature1, feature2)\n",
    "    distances.append(dist_tmp)\n",
    "    print(dist_tmp)"
   ]
  },
  {
   "cell_type": "code",
   "execution_count": 46,
   "metadata": {},
   "outputs": [],
   "source": [
    "dist_arr = np.array(distances)"
   ]
  },
  {
   "cell_type": "code",
   "execution_count": 51,
   "metadata": {},
   "outputs": [
    {
     "data": {
      "text/plain": [
       "118.20699974529661"
      ]
     },
     "execution_count": 51,
     "metadata": {},
     "output_type": "execute_result"
    }
   ],
   "source": [
    "dist_arr.mean()"
   ]
  },
  {
   "cell_type": "code",
   "execution_count": null,
   "metadata": {},
   "outputs": [],
   "source": []
  }
 ],
 "metadata": {
  "kernelspec": {
   "display_name": "Python 3.9.13 ('base')",
   "language": "python",
   "name": "python3"
  },
  "language_info": {
   "codemirror_mode": {
    "name": "ipython",
    "version": 3
   },
   "file_extension": ".py",
   "mimetype": "text/x-python",
   "name": "python",
   "nbconvert_exporter": "python",
   "pygments_lexer": "ipython3",
   "version": "3.9.13"
  },
  "orig_nbformat": 4,
  "vscode": {
   "interpreter": {
    "hash": "c6e4e9f98eb68ad3b7c296f83d20e6de614cb42e90992a65aa266555a3137d0d"
   }
  }
 },
 "nbformat": 4,
 "nbformat_minor": 2
}
